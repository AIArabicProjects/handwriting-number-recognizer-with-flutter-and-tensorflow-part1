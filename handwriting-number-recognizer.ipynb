{
 "cells": [
  {
   "cell_type": "markdown",
   "metadata": {},
   "source": [
    "# handwriting number recognize with flutter and tensorflow part 1"
   ]
  },
  {
   "cell_type": "code",
   "execution_count": 1,
   "metadata": {},
   "outputs": [],
   "source": [
    "import tensorflow as tf"
   ]
  },
  {
   "cell_type": "markdown",
   "metadata": {},
   "source": [
    "## Load the MNIST dataset"
   ]
  },
  {
   "cell_type": "code",
   "execution_count": 2,
   "metadata": {},
   "outputs": [],
   "source": [
    "mnist = tf.keras.datasets.mnist\n",
    "(x_train, y_train),(x_test, y_test) = mnist.load_data()\n",
    "\n",
    "# Normalize the training values\n",
    "x_train, x_test = x_train / 255.0, x_test / 255.0"
   ]
  },
  {
   "cell_type": "code",
   "execution_count": 3,
   "metadata": {},
   "outputs": [],
   "source": [
    "# A callback to stop the tranning when reaching enough accuracy\n",
    "class myCallback(tf.keras.callbacks.Callback):\n",
    "    def on_epoch_end(self, epoch, logs={}):\n",
    "        # If you are using Tensorflow 1.x, replace 'accuracy' for 'acc' in the next line\n",
    "        if(logs.get('acc')>0.99):\n",
    "            print(\"\\nReached 99.0% accuracy so cancelling training!\")\n",
    "            self.model.stop_training = True"
   ]
  },
  {
   "cell_type": "markdown",
   "metadata": {},
   "source": [
    "## Create a basic model"
   ]
  },
  {
   "cell_type": "code",
   "execution_count": 4,
   "metadata": {},
   "outputs": [
    {
     "name": "stderr",
     "output_type": "stream",
     "text": [
      "WARNING: Logging before flag parsing goes to stderr.\n",
      "W0502 15:16:59.338754   168 deprecation.py:506] From C:\\Users\\moham\\Anaconda3\\envs\\py37\\lib\\site-packages\\tensorflow_core\\python\\ops\\resource_variable_ops.py:1630: calling BaseResourceVariable.__init__ (from tensorflow.python.ops.resource_variable_ops) with constraint is deprecated and will be removed in a future version.\n",
      "Instructions for updating:\n",
      "If using Keras pass *_constraint arguments to layers.\n"
     ]
    }
   ],
   "source": [
    "model = tf.keras.models.Sequential([\n",
    "  tf.keras.layers.Flatten(input_shape=(28, 28)),\n",
    "  tf.keras.layers.Dense(128, activation='relu'),\n",
    "  tf.keras.layers.Dropout(0.2),\n",
    "  tf.keras.layers.Dense(10, activation='softmax')\n",
    "])\n",
    "\n",
    "# Compile the model\n",
    "model.compile(optimizer='adam',\n",
    "              loss='sparse_categorical_crossentropy',\n",
    "              metrics=['accuracy'])"
   ]
  },
  {
   "cell_type": "markdown",
   "metadata": {},
   "source": [
    "## Train the model"
   ]
  },
  {
   "cell_type": "code",
   "execution_count": 5,
   "metadata": {
    "scrolled": true
   },
   "outputs": [
    {
     "name": "stdout",
     "output_type": "stream",
     "text": [
      "Train on 60000 samples\n",
      "Epoch 1/25\n",
      "60000/60000 [==============================] - 4s 67us/sample - loss: 0.2934 - acc: 0.9159\n",
      "Epoch 2/25\n",
      "60000/60000 [==============================] - 4s 63us/sample - loss: 0.1441 - acc: 0.9572\n",
      "Epoch 3/25\n",
      "60000/60000 [==============================] - 4s 61us/sample - loss: 0.1083 - acc: 0.9676\n",
      "Epoch 4/25\n",
      "60000/60000 [==============================] - 4s 67us/sample - loss: 0.0866 - acc: 0.9730\n",
      "Epoch 5/25\n",
      "60000/60000 [==============================] - 4s 66us/sample - loss: 0.0765 - acc: 0.9762\n",
      "Epoch 6/25\n",
      "60000/60000 [==============================] - 4s 63us/sample - loss: 0.0652 - acc: 0.9789\n",
      "Epoch 7/25\n",
      "60000/60000 [==============================] - 4s 68us/sample - loss: 0.0593 - acc: 0.9812\n",
      "Epoch 8/25\n",
      "60000/60000 [==============================] - 4s 64us/sample - loss: 0.0531 - acc: 0.9826\n",
      "Epoch 9/25\n",
      "60000/60000 [==============================] - 4s 63us/sample - loss: 0.0486 - acc: 0.9840\n",
      "Epoch 10/25\n",
      "60000/60000 [==============================] - 4s 67us/sample - loss: 0.0450 - acc: 0.9849\n",
      "Epoch 11/25\n",
      "60000/60000 [==============================] - 4s 71us/sample - loss: 0.0414 - acc: 0.9861\n",
      "Epoch 12/25\n",
      "60000/60000 [==============================] - 4s 73us/sample - loss: 0.0392 - acc: 0.9866\n",
      "Epoch 13/25\n",
      "60000/60000 [==============================] - 4s 69us/sample - loss: 0.0361 - acc: 0.9876\n",
      "Epoch 14/25\n",
      "60000/60000 [==============================] - 4s 66us/sample - loss: 0.0326 - acc: 0.9890\n",
      "Epoch 15/25\n",
      "60000/60000 [==============================] - 4s 62us/sample - loss: 0.0341 - acc: 0.9882\n",
      "Epoch 16/25\n",
      "60000/60000 [==============================] - 4s 61us/sample - loss: 0.0319 - acc: 0.9894\n",
      "Epoch 17/25\n",
      "60000/60000 [==============================] - 4s 68us/sample - loss: 0.0303 - acc: 0.9894\n",
      "Epoch 18/25\n",
      "59776/60000 [============================>.] - ETA: 0s - loss: 0.0292 - acc: 0.9900\n",
      "Reached 99.0% accuracy so cancelling training!\n",
      "60000/60000 [==============================] - 4s 71us/sample - loss: 0.0292 - acc: 0.9900\n"
     ]
    },
    {
     "data": {
      "text/plain": [
       "<tensorflow.python.keras.callbacks.History at 0x207c3d45630>"
      ]
     },
     "execution_count": 5,
     "metadata": {},
     "output_type": "execute_result"
    }
   ],
   "source": [
    "model.fit(x_train, \n",
    "          y_train, \n",
    "          epochs=25,\n",
    "          callbacks=[myCallback()])"
   ]
  },
  {
   "cell_type": "markdown",
   "metadata": {},
   "source": [
    "## Evaluate the model"
   ]
  },
  {
   "cell_type": "code",
   "execution_count": 6,
   "metadata": {},
   "outputs": [
    {
     "name": "stdout",
     "output_type": "stream",
     "text": [
      "10000/10000 [==============================] - 0s 48us/sample - loss: 0.0725 - acc: 0.9821\n"
     ]
    },
    {
     "data": {
      "text/plain": [
       "[0.07246083058739022, 0.9821]"
      ]
     },
     "execution_count": 6,
     "metadata": {},
     "output_type": "execute_result"
    }
   ],
   "source": [
    "model.evaluate(x_test, y_test)"
   ]
  },
  {
   "cell_type": "code",
   "execution_count": 8,
   "metadata": {},
   "outputs": [],
   "source": [
    "# Save the model\n",
    "model.save('my_mnist_model.h5')"
   ]
  },
  {
   "cell_type": "code",
   "execution_count": 9,
   "metadata": {},
   "outputs": [
    {
     "name": "stderr",
     "output_type": "stream",
     "text": [
      "W0502 15:19:14.395089   168 deprecation.py:506] From C:\\Users\\moham\\Anaconda3\\envs\\py37\\lib\\site-packages\\tensorflow_core\\python\\ops\\init_ops.py:97: calling GlorotUniform.__init__ (from tensorflow.python.ops.init_ops) with dtype is deprecated and will be removed in a future version.\n",
      "Instructions for updating:\n",
      "Call initializer instance with the dtype argument instead of passing it to the constructor\n",
      "W0502 15:19:14.397102   168 deprecation.py:506] From C:\\Users\\moham\\Anaconda3\\envs\\py37\\lib\\site-packages\\tensorflow_core\\python\\ops\\init_ops.py:97: calling Zeros.__init__ (from tensorflow.python.ops.init_ops) with dtype is deprecated and will be removed in a future version.\n",
      "Instructions for updating:\n",
      "Call initializer instance with the dtype argument instead of passing it to the constructor\n",
      "W0502 15:19:14.833610   168 deprecation.py:323] From C:\\Users\\moham\\Anaconda3\\envs\\py37\\lib\\site-packages\\tensorflow_core\\lite\\python\\util.py:249: convert_variables_to_constants (from tensorflow.python.framework.graph_util_impl) is deprecated and will be removed in a future version.\n",
      "Instructions for updating:\n",
      "Use `tf.compat.v1.graph_util.convert_variables_to_constants`\n",
      "W0502 15:19:14.834607   168 deprecation.py:323] From C:\\Users\\moham\\Anaconda3\\envs\\py37\\lib\\site-packages\\tensorflow_core\\python\\framework\\graph_util_impl.py:277: extract_sub_graph (from tensorflow.python.framework.graph_util_impl) is deprecated and will be removed in a future version.\n",
      "Instructions for updating:\n",
      "Use `tf.compat.v1.graph_util.extract_sub_graph`\n"
     ]
    },
    {
     "data": {
      "text/plain": [
       "408224"
      ]
     },
     "execution_count": 9,
     "metadata": {},
     "output_type": "execute_result"
    }
   ],
   "source": [
    "# Convert the model.\n",
    "converter = tf.lite.TFLiteConverter.from_keras_model_file('my_mnist_model.h5')\n",
    "tflite_model = converter.convert()\n",
    "open(\"converted_mnist_model.tflite\", \"wb\").write(tflite_model)"
   ]
  },
  {
   "cell_type": "code",
   "execution_count": null,
   "metadata": {},
   "outputs": [],
   "source": []
  }
 ],
 "metadata": {
  "kernelspec": {
   "display_name": "Python 3",
   "language": "python",
   "name": "python3"
  },
  "language_info": {
   "codemirror_mode": {
    "name": "ipython",
    "version": 3
   },
   "file_extension": ".py",
   "mimetype": "text/x-python",
   "name": "python",
   "nbconvert_exporter": "python",
   "pygments_lexer": "ipython3",
   "version": "3.7.3"
  }
 },
 "nbformat": 4,
 "nbformat_minor": 2
}
